{
 "cells": [
  {
   "cell_type": "code",
   "execution_count": 1,
   "id": "e2541596-7e52-4d84-8ea2-0665fdeeeb34",
   "metadata": {},
   "outputs": [],
   "source": [
    "#ans1"
   ]
  },
  {
   "cell_type": "code",
   "execution_count": 2,
   "id": "70e83524-0129-47c6-ad37-0d52e04d02cb",
   "metadata": {},
   "outputs": [],
   "source": [
    "#In Python, the built-in function used to open a file is called open(). The open() function takes two arguments: the file name or file path, and the mode in which you want to open the file.\n",
    "#There are several modes in which a file can be opened. Here's a brief overview of the most commonly used modes:\n",
    "\n",
    "#'r' (read mode): This mode is used for reading files. It opens the file in read-only mode and returns a file object. If the file doesn't exist, an error will occur.\n",
    "#'w' (write mode): This mode is used for writing to files. It opens the file in write-only mode and returns a file object. If the file doesn't exist, it will be created. If it does exist, its contents will be truncated (deleted).\n",
    "#'a' (append mode): This mode is used for appending to files. It opens the file in write-only mode and returns a file object. If the file doesn't exist, it will be created. If it does exist, new data will be appended to the end of the file without deleting any existing data.\n",
    "#'x' (exclusive creation mode): This mode is used for creating a new file exclusively. It opens the file in write-only mode and returns a file object. If the file already exists, an error will occur.\n",
    "#'b' (binary mode): This mode is used for handling binary data, such as images, audio files, and video files. It can be used with any of the above modes by adding 'b' to the end of the mode string (e.g., 'rb' for read mode in binary).\n",
    "\n",
    "#To use any of these modes, you simply pass the appropriate mode string as the second argument to the open() function. For example, to open a file called example.txt in read mode, you would use the following code:"
   ]
  },
  {
   "cell_type": "code",
   "execution_count": 5,
   "id": "489cf784-31ac-4c3f-895a-433b6697a3d4",
   "metadata": {},
   "outputs": [],
   "source": [
    "#file = open('example.txt', 'r')"
   ]
  },
  {
   "cell_type": "code",
   "execution_count": 9,
   "id": "707128d0-ebc9-4eb7-a857-14b81d38a65c",
   "metadata": {},
   "outputs": [],
   "source": [
    "#Note that it's important to close the file after you're done with it by calling the close() method on the file object. Alternatively, you can use a with statement to ensure that the file is automatically closed when you're done with it:"
   ]
  },
  {
   "cell_type": "code",
   "execution_count": 10,
   "id": "2f66a610-b864-42d6-9d4d-d5f93338368c",
   "metadata": {},
   "outputs": [],
   "source": [
    "#ans2"
   ]
  },
  {
   "cell_type": "code",
   "execution_count": 13,
   "id": "b39331f4-6296-4f17-af85-507759fa5117",
   "metadata": {},
   "outputs": [],
   "source": [
    "#The close() function is used to close a file that was opened using the open() function in Python. It's important to close a file after you're done with it because it frees up system resources and ensures that all data that was buffered in memory is written to the file.\n",
    "\n",
    "#When you open a file using the open() function, Python creates a file object that provides a way to interact with the file. The file object is stored in memory and has a buffer that stores data before it's written to the file. When you're done with the file, you should call the close() function on the file object to release the system resources that were allocated to it and ensure that any data in the buffer is written to the file.\n",
    "\n",
    "#If you don't close the file, the data in the buffer may not be written to the file, and you may lose data. Additionally, leaving files open can use up system resources, which can cause problems if you're working with a large number of files or if your program runs for a long time.\n",
    "\n",
    "#To avoid these problems, it's important to always close files when you're done with them. You can close a file by calling the close() method on the file object."
   ]
  },
  {
   "cell_type": "code",
   "execution_count": 14,
   "id": "4793cb10-103a-4255-9a8b-12c94618be65",
   "metadata": {},
   "outputs": [],
   "source": [
    "#ans3"
   ]
  },
  {
   "cell_type": "code",
   "execution_count": 15,
   "id": "b3522572-6867-49bb-b6ff-40b333576b65",
   "metadata": {},
   "outputs": [
    {
     "name": "stdout",
     "output_type": "stream",
     "text": [
      "I want to become a Data Scientist\n"
     ]
    }
   ],
   "source": [
    "# Open the file in write mode\n",
    "file = open('my_file.txt', 'w')\n",
    "\n",
    "# Write some text to the file\n",
    "file.write('I want to become a Data Scientist')\n",
    "\n",
    "# Close the file\n",
    "file.close()\n",
    "\n",
    "# Open the file in read mode\n",
    "file = open('my_file.txt', 'r')\n",
    "\n",
    "# Read the contents of the file\n",
    "content = file.read()\n",
    "\n",
    "# Print the contents of the file\n",
    "print(content)\n",
    "\n",
    "# Close the file\n",
    "file.close()\n"
   ]
  },
  {
   "cell_type": "code",
   "execution_count": 16,
   "id": "5c3dd4f3-4011-4236-b550-5325815a866d",
   "metadata": {},
   "outputs": [],
   "source": [
    "#In this program, we first open a file called my_file.txt in write mode using the open() function with the 'w' mode. We then write the string 'I want to become a Data Scientist' to the file using the write() method of the file object. After that, we close the file using the close() method of the file object.\n",
    "\n",
    "#Next, we open the same file in read mode using the open() function with the 'r' mode. We then read the contents of the file using the read() method of the file object and store it in the variable content. Finally, we print the contents of the file using the print() function and close the file using the close() method of the file object.\n",
    "\n",
    "#When you run this program, it should create a file called my_file.txt in the current directory, write the string 'I want to become a Data Scientist' to it, and then print that string to the console."
   ]
  },
  {
   "cell_type": "code",
   "execution_count": 17,
   "id": "f8f2cb3a-1f0d-40c2-8e2c-a916f98ef246",
   "metadata": {},
   "outputs": [],
   "source": [
    "#ans4"
   ]
  },
  {
   "cell_type": "code",
   "execution_count": 18,
   "id": "191f4524-4391-4390-a1bb-31447cd32646",
   "metadata": {},
   "outputs": [],
   "source": [
    "#read(), readline(), and readlines() are Python methods that can be used to read data from a file. Here's a brief explanation of each method along with some example code:\n",
    "\n",
    "#read(): The read() method reads the entire contents of a file and returns it as a string. You can optionally specify the number of bytes to read as an argument. If you don't specify an argument, read() will read the entire file."
   ]
  },
  {
   "cell_type": "code",
   "execution_count": 26,
   "id": "749bf81c-7777-4085-b364-74c2dc0522f4",
   "metadata": {},
   "outputs": [],
   "source": [
    "#In this example, we open a file called example.txt in read mode using the open() function. We then call the read() method of the file object to read the entire contents of the file and store it in the variable content. Finally, we print the contents of the file to the console."
   ]
  },
  {
   "cell_type": "code",
   "execution_count": 29,
   "id": "bfeee6d1-70f0-42ea-ae51-3f62f320c5eb",
   "metadata": {},
   "outputs": [],
   "source": [
    "#readline(): The readline() method reads a single line from a file and returns it as a string. Each time you call readline(), it will read the next line in the file. If you call readline() after it has already read the last line of the file, it will return an empty string"
   ]
  },
  {
   "cell_type": "code",
   "execution_count": 30,
   "id": "8c797205-6c27-4e32-b7cb-a6c5795ab3e7",
   "metadata": {},
   "outputs": [],
   "source": [
    "#ans5"
   ]
  },
  {
   "cell_type": "code",
   "execution_count": 31,
   "id": "56321765-e691-4655-95b0-8812eb10356e",
   "metadata": {},
   "outputs": [],
   "source": [
    "#In Python, the with statement is used with the open() function to automatically close the file after you're done working with it. The advantage of using the with statement with open() is that it ensures that the file is properly closed, even if an error occurs while you're working with the file. This is important because if you don't close a file properly, it can lead to data corruption or other problems."
   ]
  },
  {
   "cell_type": "code",
   "execution_count": 34,
   "id": "62a908c2-17fa-4b7d-8e8b-1a23c9300183",
   "metadata": {},
   "outputs": [],
   "source": [
    "#The advantage of using the with statement with open() is that it makes your code cleaner and more readable. You don't need to worry about closing the file manually or handling errors that might occur while the file is open. The with statement takes care of all of that for you, so you can focus on the task at hand.\n",
    "\n",
    "#In summary, using the with statement with open() ensures that your files are properly closed, even if an error occurs, and makes your code cleaner and more readable by removing the need for manual file handling."
   ]
  },
  {
   "cell_type": "code",
   "execution_count": 35,
   "id": "1a554350-f800-48fb-bd6d-3490e52c3d52",
   "metadata": {},
   "outputs": [],
   "source": [
    "#ans5"
   ]
  },
  {
   "cell_type": "code",
   "execution_count": 36,
   "id": "e0d47e33-ba0f-4e82-acba-e881881cf798",
   "metadata": {},
   "outputs": [],
   "source": [
    "#In Python, the write() and writelines() functions are used to write data to a file. Here's a brief explanation of each function along with some example code:\n",
    "\n",
    "#write(): The write() function is used to write a single string to a file. If the file doesn't exist, it will be created. If the file already exists, the write() function will overwrite the existing content."
   ]
  },
  {
   "cell_type": "code",
   "execution_count": 37,
   "id": "9dca3574-e25a-416a-b4e3-ba9ddc3a1721",
   "metadata": {},
   "outputs": [],
   "source": [
    "# Open a file for writing\n",
    "file = open('example.txt', 'w')\n",
    "\n",
    "# Write a string to the file\n",
    "file.write('I want to become a Data Scientist\\n')\n",
    "\n",
    "# Close the file\n",
    "file.close()\n"
   ]
  },
  {
   "cell_type": "code",
   "execution_count": 38,
   "id": "7dfe5c07-d534-4169-8636-cc23505c5dba",
   "metadata": {},
   "outputs": [],
   "source": [
    "#In this example, we open a file called example.txt in write mode using the open() function. We then call the write() function of the file object to write a string to the file. Finally, we close the file using the close() method of the file object."
   ]
  },
  {
   "cell_type": "code",
   "execution_count": 39,
   "id": "2862d47a-5316-4ea7-ac3f-de43354cafd0",
   "metadata": {},
   "outputs": [],
   "source": [
    "#writelines(): The writelines() function is used to write a list of strings to a file. Each string in the list corresponds to a line in the file, including the newline character at the end of each line. If the file doesn't exist, it will be created. If the file already exists, the writelines() function will overwrite the existing content."
   ]
  },
  {
   "cell_type": "code",
   "execution_count": 40,
   "id": "da34aee6-eef3-42ed-a97c-d546124a69ae",
   "metadata": {},
   "outputs": [],
   "source": [
    "# Open a file for writing\n",
    "file = open('example.txt', 'w')\n",
    "\n",
    "# Write a list of strings to the file\n",
    "lines = ['I want to become a Data Scientist\\n', 'I love Python programming\\n']\n",
    "file.writelines(lines)\n",
    "\n",
    "# Close the file\n",
    "file.close()\n"
   ]
  },
  {
   "cell_type": "code",
   "execution_count": 41,
   "id": "c7b114c2-334e-4458-8cef-9279362bcc4a",
   "metadata": {},
   "outputs": [],
   "source": [
    "#In this example, we open a file called example.txt in write mode using the open() function. We then define a list of strings called lines, where each string corresponds to a line in the file. We pass this list of strings to the writelines() function of the file object to write the lines to the file. Finally, we close the file using the close() method of the file object.\n",
    "\n",
    "#Note that when using the write() and writelines() functions, you should always close the file using the close() method of the file object to ensure that the data is written to the file and any system resources used by the file are freed up."
   ]
  },
  {
   "cell_type": "code",
   "execution_count": null,
   "id": "d9dabfc2-9d2f-4c76-aeef-6106374daf0e",
   "metadata": {},
   "outputs": [],
   "source": []
  }
 ],
 "metadata": {
  "kernelspec": {
   "display_name": "Python 3 (ipykernel)",
   "language": "python",
   "name": "python3"
  },
  "language_info": {
   "codemirror_mode": {
    "name": "ipython",
    "version": 3
   },
   "file_extension": ".py",
   "mimetype": "text/x-python",
   "name": "python",
   "nbconvert_exporter": "python",
   "pygments_lexer": "ipython3",
   "version": "3.10.8"
  }
 },
 "nbformat": 4,
 "nbformat_minor": 5
}
